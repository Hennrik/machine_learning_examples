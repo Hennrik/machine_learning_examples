{
 "cells": [
  {
   "cell_type": "code",
   "execution_count": 8,
   "metadata": {
    "collapsed": false
   },
   "outputs": [
    {
     "name": "stdout",
     "output_type": "stream",
     "text": [
      "Coefficients: \n",
      "[-8.78958164  1.06736021]\n",
      "Input features:\n",
      "[[0, 170.0], [1, 170.0]]\n",
      "predictions:\n",
      "[ 79.1453856   70.35580396]\n"
     ]
    }
   ],
   "source": [
    "import matplotlib.pyplot as plt\n",
    "import numpy as np\n",
    "import pandas as pd\n",
    "from sklearn import datasets,linear_model\n",
    "from sklearn.cross_validation import train_test_split\n",
    "dataLocation=r'C:\\Users\\Yanbo Huang\\Desktop\\Python exercises\\OLS_Regression_Example_3.csv'\n",
    "data=pd.read_csv(dataLocation)\n",
    "# set male to 1 and female to 0\n",
    "data['Gender']=(data['Gender']!='Male').astype(int)\n",
    "# change inch to cm and bound to kg\n",
    "data['Height']*=2.54\n",
    "data['Weight']*=0.45359237\n",
    "Features=data[['Gender','Height']].values\n",
    "Label=data['Weight'].values\n",
    "regr=linear_model.LinearRegression()\n",
    "regr.fit(Features,Label)\n",
    "print 'Coefficients: \\n', regr.coef_\n",
    "plt.scatter(data['Height'],data['Weight'],color='blue')\n",
    "plt.xlabel('Height',fontsize=18)\n",
    "plt.ylabel('Weight',fontsize=18)\n",
    "plt.show()\n",
    "# input features for predication\n",
    "featuresTest=[[0,170.0],[1,170.0]]\n",
    "print 'Input features:\\n',featuresTest\n",
    "print 'predictions:\\n',regr.predict(featuresTest)\n"
   ]
  },
  {
   "cell_type": "code",
   "execution_count": null,
   "metadata": {
    "collapsed": true
   },
   "outputs": [],
   "source": []
  }
 ],
 "metadata": {
  "kernelspec": {
   "display_name": "Python 2",
   "language": "python",
   "name": "python2"
  },
  "language_info": {
   "codemirror_mode": {
    "name": "ipython",
    "version": 2
   },
   "file_extension": ".py",
   "mimetype": "text/x-python",
   "name": "python",
   "nbconvert_exporter": "python",
   "pygments_lexer": "ipython2",
   "version": "2.7.10"
  }
 },
 "nbformat": 4,
 "nbformat_minor": 0
}
