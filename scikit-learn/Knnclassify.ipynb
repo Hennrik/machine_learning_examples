{
 "cells": [
  {
   "cell_type": "code",
   "execution_count": 2,
   "metadata": {
    "collapsed": false
   },
   "outputs": [
    {
     "name": "stdout",
     "output_type": "stream",
     "text": [
      "the mean accuracy on the given test data and labels is 0.860000\n",
      "Internet Service Provider Alpha\n"
     ]
    }
   ],
   "source": [
    "import matplotlib.pyplot as plt\n",
    "import numpy as np\n",
    "import pandas as pd\n",
    "from sklearn import datasets\n",
    "from sklearn.neighbors import KNeighborsClassifier\n",
    "from sklearn.cross_validation import train_test_split\n",
    "#---------------------load dataset------------------------------------------------\n",
    "dataLocation=r'/Users/yuliang/Documents/MachineLearning-master/Example_Data/KNN_Example_1.csv'\n",
    "data=pd.read_csv(dataLocation)\n",
    "#---------------------scatter plot of original dataset----------------------------\n",
    "plt.scatter(data[data['Label']==0]['X'],data[data['Label']==0]['Y'],color='magenta',label='Alpha')\n",
    "plt.scatter(data[data['Label']==1]['X'],data[data['Label']==1]['Y'],color='green',label='Beta')\n",
    "plt.grid(True)\n",
    "plt.xlabel('X',fontsize=18)\n",
    "plt.ylabel('Y',fontsize=18)\n",
    "plt.title('original dataset',fontsize=20)\n",
    "plt.legend(loc='upper left')\n",
    "plt.show()\n",
    "#---------------------split dataset using 2 fold----------------------------------------\n",
    "train,test=train_test_split(data,test_size=0.5)\n",
    "neigh = KNeighborsClassifier(n_neighbors=3,weights='distance')\n",
    "#---------------------exact dataset to features and labels-------------------------------\n",
    "features_train=train[['X','Y']].values\n",
    "label_train=train['Label'].values\n",
    "features_test=test[['X','Y']].values\n",
    "label_test=test['Label'].values\n",
    "#---------------------train model--------------------------------------------------------\n",
    "neigh.fit(features_train,label_train)\n",
    "#---------------------using test dataset to calculate mean_accuracy of trained model------\n",
    "mean_accuracy=neigh.score(features_test,label_test)\n",
    "print \"the mean accuracy on the given test data and labels is %f\"%mean_accuracy\n",
    "#---------------------predict unknownpoint------------------------------------------------\n",
    "unknownPoint=np.array([[5.3,4.3]])\n",
    "prediction=neigh.predict(unknownPoint)\n",
    "if prediction==0:\n",
    "    print \"Internet Service Provider Alpha\"\n",
    "elif prediction==1:\n",
    "    print \"Internet Service Provider Alpha\"\n",
    "else:\n",
    "    print \"Unexpected prediction\""
   ]
  },
  {
   "cell_type": "code",
   "execution_count": null,
   "metadata": {
    "collapsed": true
   },
   "outputs": [],
   "source": []
  },
  {
   "cell_type": "code",
   "execution_count": null,
   "metadata": {
    "collapsed": true
   },
   "outputs": [],
   "source": []
  },
  {
   "cell_type": "code",
   "execution_count": null,
   "metadata": {
    "collapsed": true
   },
   "outputs": [],
   "source": []
  },
  {
   "cell_type": "code",
   "execution_count": null,
   "metadata": {
    "collapsed": true
   },
   "outputs": [],
   "source": []
  },
  {
   "cell_type": "code",
   "execution_count": null,
   "metadata": {
    "collapsed": true
   },
   "outputs": [],
   "source": []
  }
 ],
 "metadata": {
  "kernelspec": {
   "display_name": "Python 2",
   "language": "python",
   "name": "python2"
  },
  "language_info": {
   "codemirror_mode": {
    "name": "ipython",
    "version": 2
   },
   "file_extension": ".py",
   "mimetype": "text/x-python",
   "name": "python",
   "nbconvert_exporter": "python",
   "pygments_lexer": "ipython2",
   "version": "2.7.10"
  }
 },
 "nbformat": 4,
 "nbformat_minor": 0
}
