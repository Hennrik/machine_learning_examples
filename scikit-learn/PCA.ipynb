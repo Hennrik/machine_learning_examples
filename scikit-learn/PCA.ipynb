{
 "cells": [
  {
   "cell_type": "code",
   "execution_count": 8,
   "metadata": {
    "collapsed": false
   },
   "outputs": [],
   "source": [
    "import numpy as np\n",
    "import pandas as pd\n",
    "import matplotlib.pyplot as plt\n",
    "from sklearn.decomposition import PCA"
   ]
  },
  {
   "cell_type": "code",
   "execution_count": 9,
   "metadata": {
    "collapsed": true
   },
   "outputs": [],
   "source": [
    "#csv path\n",
    "dataLocation=r'C:\\Users\\Yanbo Huang\\Desktop\\Python exercises\\PCA_Example_1.csv'\n",
    "data=pd.read_csv(dataLocation)"
   ]
  },
  {
   "cell_type": "code",
   "execution_count": 10,
   "metadata": {
    "collapsed": false
   },
   "outputs": [],
   "source": [
    "# draw pivot of the data and get 24 stocks\n",
    "df=data.pivot(index='Date', columns='Stock', values='Close')"
   ]
  },
  {
   "cell_type": "code",
   "execution_count": 11,
   "metadata": {
    "collapsed": false
   },
   "outputs": [],
   "source": [
    "# trian model\n",
    "pca=PCA(n_components=1)\n",
    "outputData=pca.fit_transform(df)"
   ]
  },
  {
   "cell_type": "code",
   "execution_count": 13,
   "metadata": {
    "collapsed": false
   },
   "outputs": [
    {
     "name": "stderr",
     "output_type": "stream",
     "text": [
      "C:\\Anaconda2\\lib\\site-packages\\matplotlib\\collections.py:590: FutureWarning: elementwise comparison failed; returning scalar instead, but in the future will perform elementwise comparison\n",
      "  if self._edgecolors == str('face'):\n"
     ]
    }
   ],
   "source": [
    "plt.scatter(np.arange(outputData.size),outputData,color='black')\n",
    "plt.axis([0,2500,-80,80])\n",
    "plt.grid(True)\n",
    "plt.show()"
   ]
  },
  {
   "cell_type": "code",
   "execution_count": 14,
   "metadata": {
    "collapsed": false
   },
   "outputs": [
    {
     "name": "stderr",
     "output_type": "stream",
     "text": [
      "C:\\Anaconda2\\lib\\site-packages\\ipykernel\\__main__.py:3: FutureWarning: sort(columns=....) is deprecated, use sort_values(by=.....)\n",
      "  app.launch_new_instance()\n"
     ]
    }
   ],
   "source": [
    "DJIdataLocation=r'C:\\Users\\Yanbo Huang\\Desktop\\Python exercises\\PCA_Example_2.csv'\n",
    "DJI=pd.read_csv(DJIdataLocation)\n",
    "DJI=DJI[['Date','Close']].sort('Date')['Close']\n"
   ]
  },
  {
   "cell_type": "code",
   "execution_count": 15,
   "metadata": {
    "collapsed": false
   },
   "outputs": [],
   "source": [
    "#normolize data\n",
    "DJI=(DJI-DJI.mean())/(DJI.max()-DJI.min())\n",
    "pcaData=(outputData-outputData.mean())/(outputData.max()-outputData.min())\n",
    "plt.scatter(np.arange(DJI.size),DJI,color='blue',label='DJI')\n",
    "plt.scatter(np.arange(pcaData.size),pcaData,color='black',label='PCA')\n",
    "plt.grid(True)\n",
    "plt.axis([0,2500,-0.6,0.6])\n",
    "plt.legend()\n",
    "plt.show()"
   ]
  },
  {
   "cell_type": "code",
   "execution_count": null,
   "metadata": {
    "collapsed": true
   },
   "outputs": [],
   "source": []
  }
 ],
 "metadata": {
  "kernelspec": {
   "display_name": "Python 2",
   "language": "python",
   "name": "python2"
  },
  "language_info": {
   "codemirror_mode": {
    "name": "ipython",
    "version": 2
   },
   "file_extension": ".py",
   "mimetype": "text/x-python",
   "name": "python",
   "nbconvert_exporter": "python",
   "pygments_lexer": "ipython2",
   "version": "2.7.10"
  }
 },
 "nbformat": 4,
 "nbformat_minor": 0
}
