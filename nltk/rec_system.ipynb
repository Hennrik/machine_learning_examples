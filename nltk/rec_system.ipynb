{
 "cells": [
  {
   "cell_type": "code",
   "execution_count": 4,
   "metadata": {
    "collapsed": false
   },
   "outputs": [
    {
     "name": "stdout",
     "output_type": "stream",
     "text": [
      "succeed\n"
     ]
    }
   ],
   "source": [
    "import os, sys\n",
    "import pandas as pd\n",
    "import numpy as np\n",
    "import re\n",
    "import nltk\n",
    "\n",
    "from nltk.probability import *\n",
    "from nltk.tokenize import wordpunct_tokenize\n",
    "from collections import defaultdict\n",
    "\n",
    "#------------------------------------get files from directory-------------------------------------\n",
    "def getFilesFromDir (path):\n",
    "    dir_content = os.listdir(path)\n",
    "    dir_clean = filter(lambda x: (\".DS_Store\" not in x) and (\"cmds\" not in x), dir_content)\n",
    "    msg = map(lambda x: getFullMessage(path + '/' + x), dir_clean)\n",
    "    return msg\n",
    "#------------------------------------get message from files---------------------------------------\n",
    "#get full message \n",
    "def getFullMessage (path):\n",
    "    fo = open (path)\n",
    "    lines = fo.readlines()\n",
    "    fo.close()\n",
    "    lines = ''.join(lines)\n",
    "    return lines\n",
    "#get message subject\n",
    "def getSubjectFromEmail (path):\n",
    "    lines = getFilesFromDir(path)\n",
    "    #subject index and subject end index\n",
    "    subject = map(lambda x: x[x.index('Subject:')+8: len(x)], lines)\n",
    "    subject = map(lambda x: x[: x.index('\\n')], subject)\n",
    "    subject = map(lambda x: x.lower(), subject)\n",
    "    subject = map(lambda x: re.sub('re:', '', x), subject)\n",
    "    return subject\n",
    "#get message body\n",
    "def getMessageBodyFromEmail (path):\n",
    "    lines = getFilesFromDir(path)\n",
    "    body = map(lambda x: x[x.index('\\n\\n'): len(x)], lines)\n",
    "    body = map(lambda x: x.lower(), body)\n",
    "    body = map(lambda x: re.sub('\\n', ' ', x), body)\n",
    "    body = map(lambda x: re.sub('[^a-zA-Z\\s]', '', x), body)\n",
    "    return body\n",
    "#get sender\n",
    "def getSenderFromEmail (path):\n",
    "    lines = getFilesFromDir(path)\n",
    "    sender = map(lambda x: x[x.index('From:'): len(x)], lines)\n",
    "    sender = map(lambda x: x[: x.index('\\n')], sender)\n",
    "    for index in range(len(sender)):\n",
    "        if '<' in sender[index]:\n",
    "            sender[index] = sender[index][sender[index].index('<')+1: sender[index].index('>')]\n",
    "        else:\n",
    "            sender[index] = sender[index][sender[index].index('From:') + 5: ]\n",
    "            if '(' in sender[index]:\n",
    "                sender[index] = sender[index][: sender[index].index('(')]\n",
    "        sender[index] = re.sub(' ', '', sender[index])\n",
    "    return sender\n",
    "#get date\n",
    "def getDateFromEmail (path):\n",
    "    lines = getFilesFromDir(path)\n",
    "    date = map(lambda x: x[x.index('Date:')+5: len(x)], lines)\n",
    "    date = map(lambda x: x[: x.index('\\n')], date)\n",
    "    return date\n",
    "#------------------------------------parameter setting--------------------------------------------\n",
    "#file path\n",
    "base_path = \"/Users/yuliang/Downloads/naive_bayes\"\n",
    "ham_path1 = base_path + \"/easy_ham\"\n",
    "ham_path2 = base_path + \"/easy_ham_2\"\n",
    "spam_path1 = base_path + \"/spam\"\n",
    "spam_path2 = base_path + \"/spam_2\"\n",
    "\n",
    "hamSubject = getSubjectFromEmail(ham_path1)\n",
    "hamBody = getMessageBodyFromEmail(ham_path1)\n",
    "hamSender = getSenderFromEmail(ham_path1)\n",
    "hamDate = getDateFromEmail(ham_path1)\n",
    "\n",
    "spamSubject = getSubjectFromEmail(spam_path1)\n",
    "spamBody = getMessageBodyFromEmail(spam_path1)\n",
    "spamSender = getSenderFromEmail(spam_path1)\n",
    "spamDate = getDateFromEmail(spam_path1)"
   ]
  },
  {
   "cell_type": "code",
   "execution_count": null,
   "metadata": {
    "collapsed": true
   },
   "outputs": [],
   "source": []
  }
 ],
 "metadata": {
  "kernelspec": {
   "display_name": "Python 2",
   "language": "python",
   "name": "python2"
  },
  "language_info": {
   "codemirror_mode": {
    "name": "ipython",
    "version": 2
   },
   "file_extension": ".py",
   "mimetype": "text/x-python",
   "name": "python",
   "nbconvert_exporter": "python",
   "pygments_lexer": "ipython2",
   "version": "2.7.10"
  }
 },
 "nbformat": 4,
 "nbformat_minor": 0
}
