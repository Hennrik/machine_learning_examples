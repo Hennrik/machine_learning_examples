{
 "cells": [
  {
   "cell_type": "code",
   "execution_count": 300,
   "metadata": {
    "collapsed": false
   },
   "outputs": [
    {
     "name": "stdout",
     "output_type": "stream",
     "text": [
      "report false classified ratio for this model is :4.2000%\n"
     ]
    }
   ],
   "source": [
    "import numpy as np\n",
    "from math import sqrt\n",
    "import pandas as pd\n",
    "import matplotlib.pyplot as plt\n",
    "from sklearn import svm\n",
    "from sklearn.cross_validation import train_test_split\n",
    "dataLocation=r'C:\\Users\\Yanbo Huang\\Desktop\\Python exercises\\SVM_Example_1.csv'\n",
    "data=pd.read_csv(dataLocation)\n",
    "plt.scatter(data[data['label ']==0]['x'],data[data['label ']==0]['y'],color='magenta',label='class 1')\n",
    "plt.scatter(data[data['label ']==1]['x'],data[data['label ']==1]['y'],color='green',label='class 2')\n",
    "plt.axis([4.0,6.0,3.95,5.13])\n",
    "plt.grid(True)\n",
    "plt.xlabel('X',fontsize=18)\n",
    "plt.ylabel('Y',fontsize=18)\n",
    "plt.title('original dataset',fontsize=20)\n",
    "plt.legend(loc='upper left')\n",
    "plt.show()\n",
    "\n",
    "# split data into :train and test\n",
    "train,test=train_test_split(data,test_size=0.2)\n",
    "# split train into :train and cv \n",
    "train,cv=train_test_split(train,test_size=0.2)\n",
    "\n",
    "\n",
    "features_train=train[['x','y']].values\n",
    "label_train=train['label '].values\n",
    "\n",
    "features_cv=cv[['x','y']].values\n",
    "label_cv=cv['label '].values\n",
    "\n",
    "features_test=test[['x','y']].values\n",
    "label_test=test['label '].values\n",
    "\n",
    "FCR= []  # false classified ratio\n",
    "sigmas=[0.001,0.01,0.1,0.2,0.5,1.0,2.0,3.0,10.0]\n",
    "Cs=[0.001,0.01,0.1,0.2,0.5,1.0,2.0,3.0,10.0,100.0,100.0]\n",
    "gammas=1.0/(2*(np.array(sigmas)**2))\n",
    "global C_min\n",
    "global gamma_min\n",
    "# test model using training data\n",
    "# for p in Cs:\n",
    "#     for g in gammas:\n",
    "#         svc=svm.SVC(kernel='rbf',C=p,gamma=g).fit(features_train,label_train)\n",
    "#         label_predict=svc.predict(features_train)\n",
    "#         falseRatio=float(sum((label_train-label_predict)**2))/len(label_train)*100\n",
    "#         if (FCR!=[]) and (falseRatio<min(FCR)):\n",
    "#             global C_min\n",
    "#             C_min=p\n",
    "#             global gamma_min\n",
    "#             gamma_min=g\n",
    "#         FCR.append(falseRatio)\n",
    "# choose parameter using cross validation data\n",
    "for p in Cs:\n",
    "    for g in gammas:\n",
    "        svc=svm.SVC(kernel='rbf',C=p,gamma=g).fit(features_train,label_train)\n",
    "        label_predict=svc.predict(features_cv)\n",
    "        falseRatio=float(sum((label_cv-label_predict)**2))/len(label_cv)*100\n",
    "        if (FCR!=[]) and (falseRatio<min(FCR)):\n",
    "            global C_min\n",
    "            C_min=p\n",
    "            global gamma_min\n",
    "            gamma_min=g\n",
    "            global svc_final\n",
    "            svc_final=svc\n",
    "        FCR.append(falseRatio)    \n",
    "\n",
    "# test data\n",
    "#svc=svm.SVC(kernel='rbf',C=C_min,gamma=g_min).fit(features_test,label_test)\n",
    "label_predict=svc_final.predict(features_test)\n",
    "falseRatio_test=float(sum((label_test-label_predict)**2))/len(label_test)\n",
    "print 'report false classified ratio for this model is :{0:.4f}%'.format(falseRatio_test*100)\n",
    "\n"
   ]
  },
  {
   "cell_type": "code",
   "execution_count": null,
   "metadata": {
    "collapsed": true
   },
   "outputs": [],
   "source": []
  }
 ],
 "metadata": {
  "kernelspec": {
   "display_name": "Python 2",
   "language": "python",
   "name": "python2"
  },
  "language_info": {
   "codemirror_mode": {
    "name": "ipython",
    "version": 2
   },
   "file_extension": ".py",
   "mimetype": "text/x-python",
   "name": "python",
   "nbconvert_exporter": "python",
   "pygments_lexer": "ipython2",
   "version": "2.7.10"
  }
 },
 "nbformat": 4,
 "nbformat_minor": 0
}
