{
 "cells": [
  {
   "cell_type": "code",
   "execution_count": 168,
   "metadata": {
    "collapsed": false
   },
   "outputs": [
    {
     "name": "stdout",
     "output_type": "stream",
     "text": [
      "('Coefficients: \\n', array([[ 7.72037306]]))\n",
      "('Coefficients of male data: \\n', array([[ 5.93492084]]))\n",
      "('Coefficients of female data: \\n', array([[ 5.97783547]]))\n",
      "Residual sum of squares: 100.95\n",
      "Residual sum of squares: 101.98\n",
      "Variance score: 0.75\n",
      "Variance score: 0.73\n"
     ]
    }
   ],
   "source": [
    "import matplotlib.pyplot as plt\n",
    "import numpy as np\n",
    "import pandas as pd\n",
    "from sklearn import datasets,linear_model\n",
    "from sklearn.cross_validation import train_test_split\n",
    "#---------------------csv location------------------------------------------------\n",
    "dataLocation=r'C:\\Users\\Yanbo Huang\\Desktop\\Python exercises\\OLS_Regression_Example_3.csv'\n",
    "data=pd.read_csv(dataLocation)\n",
    "#split male and female datas,train and test datas\n",
    "dataMale=data[data['Gender']=='Male']\n",
    "train,test=train_test_split(data,test_size=0.2)\n",
    "train_male,test_male=train_test_split(dataMale,test_size=0.2)\n",
    "dataFemale=data[data['Gender']=='Female']\n",
    "train_female,test_female=train_test_split(dataFemale,test_size=0.2)\n",
    "#-----------------------------train------------------------------------------------\n",
    "x_train=train['Height'].reshape(train['Height'].count(),1)\n",
    "y_train=train['Weight'].reshape(train['Weight'].count(),1)\n",
    "#-----------------------------test--------------------------------------------------\n",
    "x_test=test['Height'].reshape(test['Height'].count(),1)\n",
    "y_test=test['Weight'].reshape(test['Weight'].count(),1)\n",
    "#----------------------------male train data--------------------------------------\n",
    "male_x_train=train_male['Height'].reshape(train_male['Height'].count(),1)\n",
    "male_y_train=train_male['Weight'].reshape(train_male['Weight'].count(),1)\n",
    "#----------------------------male test data----------------------------------------\n",
    "male_x_test=test_male['Height'].reshape(test_male['Height'].count(),1)\n",
    "male_y_test=test_male['Weight'].reshape(test_male['Weight'].count(),1)\n",
    "#----------------------------female train data-------------------------------------\n",
    "female_x_train=train_female['Height'].reshape(train_female['Height'].count(),1)\n",
    "female_y_train=train_female['Weight'].reshape(train_female['Weight'].count(),1)\n",
    "#----------------------------female test data-------------------------------------\n",
    "female_x_test=test_female['Height'].reshape(test_female['Height'].count(),1)\n",
    "female_y_test=test_female['Weight'].reshape(test_female['Weight'].count(),1)\n",
    "# Create linear regression object\n",
    "regr=linear_model.LinearRegression()\n",
    "regr_male = linear_model.LinearRegression()\n",
    "regr_female=linear_model.LinearRegression()\n",
    "# Train the model using the training sets\n",
    "regr.fit(x_train,y_train)\n",
    "regr_male.fit(male_x_train, male_y_train)\n",
    "regr_female.fit(female_x_train, female_y_train)\n",
    "# The coefficients\n",
    "print('Coefficients: \\n', regr.coef_)\n",
    "print('Coefficients of male data: \\n', regr_male.coef_)\n",
    "print('Coefficients of female data: \\n', regr_female.coef_)\n",
    "# The mean square error\n",
    "print(\"Residual sum of squares: %.2f\"\n",
    "      % np.mean((regr_male.predict(male_x_test) - male_y_test) ** 2))\n",
    "print(\"Residual sum of squares: %.2f\"\n",
    "      % np.mean((regr_female.predict(female_x_test) - female_y_test) ** 2))\n",
    "# Explained variance score: 1 is perfect prediction\n",
    "print('Variance score: %.2f' % regr_male.score(male_x_test, male_y_test))\n",
    "print('Variance score: %.2f' % regr_female.score(female_x_test, female_y_test))\n",
    "\n",
    "# Plot outputs\n",
    "plt.subplot(2, 1, 1)\n",
    "\n",
    "plt.scatter(male_x_test, male_y_test,  color='black')\n",
    "plt.scatter(female_x_test, female_y_test,  color='red')\n",
    "plt.plot(male_x_test, regr_male.predict(male_x_test), female_x_test, regr_female.predict(female_x_test), color='blue',\n",
    "         linewidth=3)\n",
    "plt.title('separate data')\n",
    "\n",
    "\n",
    "plt.subplot(2, 1, 2)\n",
    "plt.scatter(x_test, y_test,  color='yellow')\n",
    "plt.plot(x_test,regr.predict(x_test),color='blue',linewidth=3)\n",
    "plt.title('whole bunch of data')\n",
    "plt.show()\n"
   ]
  },
  {
   "cell_type": "code",
   "execution_count": null,
   "metadata": {
    "collapsed": true
   },
   "outputs": [],
   "source": []
  }
 ],
 "metadata": {
  "kernelspec": {
   "display_name": "Python 2",
   "language": "python",
   "name": "python2"
  },
  "language_info": {
   "codemirror_mode": {
    "name": "ipython",
    "version": 2
   },
   "file_extension": ".py",
   "mimetype": "text/x-python",
   "name": "python",
   "nbconvert_exporter": "python",
   "pygments_lexer": "ipython2",
   "version": "2.7.10"
  }
 },
 "nbformat": 4,
 "nbformat_minor": 0
}
